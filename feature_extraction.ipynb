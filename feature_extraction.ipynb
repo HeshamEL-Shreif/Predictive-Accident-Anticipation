{
 "cells": [
  {
   "cell_type": "code",
   "execution_count": null,
   "metadata": {},
   "outputs": [],
   "source": [
    "import torch\n",
    "import torch.nn as nn\n",
    "from torch.utils.data import DataLoader, Dataset\n",
    "from torchvision import datasets, models, transforms\n",
    "import torch.backends.cudnn as cudnn\n",
    "import numpy as np\n",
    "import torchvision\n",
    "import matplotlib.pyplot as plt\n",
    "from torchvision.transforms import ToTensor\n",
    "from PIL import Image"
   ]
  },
  {
   "cell_type": "code",
   "execution_count": null,
   "metadata": {},
   "outputs": [],
   "source": [
    "vgg16_transform = transforms.Compose([\n",
    "    transforms.Resize((224, 224)),\n",
    "    transforms.ToTensor(),\n",
    "    transforms.Normalize(mean=[0.485, 0.456, 0.406], std=[0.229, 0.224, 0.225])\n",
    "])\n"
   ]
  },
  {
   "cell_type": "code",
   "execution_count": null,
   "metadata": {},
   "outputs": [],
   "source": [
    "class VGG16(nn.Module):\n",
    "    def __init__(self):\n",
    "        super(VGG16, self).__init__()\n",
    "        VGG = models.vgg16(pretrained=True)\n",
    "        self.feature = VGG.features\n",
    "        self.classifier = nn.Sequential(*list(VGG.classifier.children())[:-3])\n",
    "        pretrained_dict = VGG.state_dict()\n",
    "        model_dict = self.classifier.state_dict(prefix='classifier.')\n",
    "        pretrained_dict = {k: v for k, v in pretrained_dict.items() if k in model_dict}\n",
    "        model_dict.update(pretrained_dict)\n",
    "        self.classifier.load_state_dict(model_dict, strict=False)\n",
    "        self.dim_feat = 4096\n",
    "\n",
    "    def forward(self, x):\n",
    "        output = self.feature(x)\n",
    "        output = output.view(output.size(0), -1)\n",
    "        output = self.classifier(output)\n",
    "        return output\n",
    "\n",
    "def init_feature_extractor(backbone='vgg16', device=torch.device('cuda')):\n",
    "    feat_extractor = None\n",
    "    if backbone == 'vgg16':\n",
    "        feat_extractor = VGG16()\n",
    "        feat_extractor = feat_extractor.to(device=device)\n",
    "        feat_extractor.eval()\n",
    "    else:\n",
    "        raise NotImplementedError\n",
    "    return feat_extractor"
   ]
  },
  {
   "cell_type": "code",
   "execution_count": null,
   "metadata": {},
   "outputs": [],
   "source": [
    "def frame_level_feature_extraction(feature_extractor, data_loader, batch_size = 32, shuffle = False):\n",
    "    dataset_features = []\n",
    "    dataset_labels = []\n",
    "\n",
    "    for batch in data_loader:\n",
    "        videos_frames, labels = batch\n",
    "        for video in videos_frames:\n",
    "          frames_feat = []\n",
    "          for frame in video:\n",
    "            frame = vgg16_transform(frame)\n",
    "            input_image = frame.unsqueeze(0)\n",
    "            frame_feat = feature_extractor.forward(input_image.to(torch.device('cuda')))\n",
    "            frame_feat = frame_feat.cpu()\n",
    "            frame_feat = frame_feat.detach()\n",
    "            torch.cuda.empty_cache()\n",
    "            frames_feat.append(frame_feat)\n",
    "          frames_feat = torch.stack(frames_feat)\n",
    "          dataset_features.append(frames_feat)\n",
    "        dataset_labels.extend(labels.tolist())\n",
    "    features_dataloader = list_to_dataloader(dataset_features,\n",
    "                                             dataset_labels,\n",
    "                                             batch_size,\n",
    "                                             shuffle)\n",
    "    torch.save(features_dataloader, '/content/drive/MyDrive/dataset feature file/frame_features_dataloader.pth')\n",
    "    return features_dataloader\n",
    "\n"
   ]
  },
  {
   "cell_type": "code",
   "execution_count": null,
   "metadata": {},
   "outputs": [],
   "source": []
  }
 ],
 "metadata": {
  "kernelspec": {
   "display_name": "base",
   "language": "python",
   "name": "python3"
  },
  "language_info": {
   "name": "python",
   "version": "3.11.4"
  }
 },
 "nbformat": 4,
 "nbformat_minor": 2
}
