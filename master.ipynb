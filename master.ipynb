{
 "cells": [
  {
   "cell_type": "code",
   "execution_count": null,
   "metadata": {},
   "outputs": [],
   "source": [
    "from dataloader import ccd_load_data, transform\n",
    "from train_val_loop import training\n",
    "from DSTA import DSTA\n",
    "from TSAA_Module import SelfAttentionAggregation\n",
    "from exp_loss_function import exp_loss\n",
    "import torch.nn as nn\n",
    "import torch\n",
    "from feature_extraction import init_feature_extractor\n",
    "from ultralytics import YOLO"
   ]
  },
  {
   "cell_type": "code",
   "execution_count": null,
   "metadata": {},
   "outputs": [],
   "source": [
    "#!mkdir \"/content/CarCrach\"\n",
    "#!mkdir \"/content/CarCrach/Crash\"\n",
    "#!mkdir \"/content/CarCrach/Normal\""
   ]
  },
  {
   "cell_type": "code",
   "execution_count": null,
   "metadata": {},
   "outputs": [],
   "source": [
    "#!unzip \"/content/drive/MyDrive/CarCrash/videos/Crash-1500.zip\" -d \"/content/CarCrach/Crash\"\n",
    "#!unzip \"/content/drive/MyDrive/CarCrash/videos/Normal.zip\" -d \"/content/CarCrach/Normal\"\n",
    "#!cp \"/content/drive/MyDrive/CarCrash/videos/Crash-1500.txt\" \"/content/\""
   ]
  },
  {
   "cell_type": "code",
   "execution_count": null,
   "metadata": {},
   "outputs": [],
   "source": [
    "#!pip install ultralytics"
   ]
  },
  {
   "cell_type": "code",
   "execution_count": null,
   "metadata": {},
   "outputs": [],
   "source": [
    "data_path = \"/content/CarCrach\"\n",
    "annote_path = \"/content/Crash-1500.txt\""
   ]
  },
  {
   "cell_type": "code",
   "execution_count": null,
   "metadata": {},
   "outputs": [],
   "source": [
    "data_loader = ccd_load_data (data_path = data_path, annote_path = annote_path, transform=transform, batch_size=1, shuffle=True)"
   ]
  },
  {
   "cell_type": "code",
   "execution_count": null,
   "metadata": {},
   "outputs": [],
   "source": [
    "feature_extractor = init_feature_extractor(backbone='vgg16', device=torch.device('cuda'))\n",
    "object_detector = YOLO('yolov8m.pt')\n",
    "device = torch.device('cuda')\n",
    "dsta = DSTA(device=device, d=4096, m=8, input_dim=4096+4096, output_dim=2, n_layers=1, n_objects=5, object_detector=object_detector, feature_extractor=feature_extractor)\n",
    "tsaa = SelfAttentionAggregation(device=device, t=50, d=4096)\n",
    "optimizer_dsta = torch.optim.Adam(params=dsta.parameters(), lr=0.01)\n",
    "optimizer_tsaa = torch.optim.Adam(params=tsaa.parameters(), lr=0.01)\n",
    "num_epochs = 10"
   ]
  },
  {
   "cell_type": "code",
   "execution_count": null,
   "metadata": {},
   "outputs": [],
   "source": [
    "for name, param in dsta.named_parameters():\n",
    "    print(name)"
   ]
  },
  {
   "cell_type": "code",
   "execution_count": null,
   "metadata": {},
   "outputs": [],
   "source": [
    "training(num_epochs=num_epochs,\n",
    "         dsta=dsta,\n",
    "         tsaa=tsaa,\n",
    "         optimizer_dsta=optimizer_dsta,\n",
    "         optimizer_tsaa=optimizer_tsaa,\n",
    "         data_loader=data_loader,\n",
    "         device=device,\n",
    "         update_grad_on_all_data=False)"
   ]
  }
 ],
 "metadata": {
  "kernelspec": {
   "display_name": "Python 3",
   "language": "python",
   "name": "python3"
  },
  "language_info": {
   "name": "python",
   "version": "3.11.5"
  }
 },
 "nbformat": 4,
 "nbformat_minor": 2
}
